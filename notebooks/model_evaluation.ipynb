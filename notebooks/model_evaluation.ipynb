{
 "cells": [
  {
   "cell_type": "markdown",
   "metadata": {},
   "source": [
    "# Model Evaluation\n",
    "\n",
    "This notebook is used for evaluating the performance of the trained muscle gain prediction model. We will assess the model using various metrics and visualize the predictions against the actual outcomes."
   ]
  },
  {
   "cell_type": "code",
   "execution_count": 1,
   "metadata": {},
   "outputs": [],
   "source": [
    "import pandas as pd\n",
    "import numpy as np\n",
    "import matplotlib.pyplot as plt\n",
    "import seaborn as sns\n",
    "from sklearn.metrics import mean_squared_error, mean_absolute_error, r2_score\n",
    "from src.prediction import load_model, preprocess_input_data\n",
    "\n",
    "# Load the processed data\n",
    "processed_data = pd.read_csv('../data/processed/processed_workout_data.csv')\n",
    "X = processed_data.drop('muscle_gain', axis=1)\n",
    "y_true = processed_data['muscle_gain']\n",
    "\n",
    "# Load the trained model\n",
    "model = load_model('path_to_trained_model/model.pkl')\n",
    "\n",
    "# Preprocess the input data\n",
    "X_processed = preprocess_input_data(X)\n",
    "\n",
    "# Make predictions\n",
    "y_pred = model.predict(X_processed)\n",
    "\n",
    "# Evaluate the model\n",
    "mse = mean_squared_error(y_true, y_pred)\n",
    "mae = mean_absolute_error(y_true, y_pred)\n",
    "r2 = r2_score(y_true, y_pred)\n",
    "\n",
    "# Display the evaluation metrics\n",
    "print(f'Mean Squared Error: {mse}')\n",
    "print(f'Mean Absolute Error: {mae}')\n",
    "print(f'R^2 Score: {r2}')\n",
    "\n",
    "# Visualize predictions vs actual outcomes\n",
    "plt.figure(figsize=(10, 6))\n",
    "plt.scatter(y_true, y_pred, alpha=0.6)\n",
    "plt.plot([y_true.min(), y_true.max()], [y_true.min(), y_true.max()], 'k--', lw=2)\n",
    "plt.xlabel('Actual Muscle Gains')\n",
    "plt.ylabel('Predicted Muscle Gains')\n",
    "plt.title('Predicted vs Actual Muscle Gains')\n",
    "plt.show()"
   ]
  }
 ],
 "metadata": {
  "kernelspec": {
   "display_name": "Python 3",
   "language": "python",
   "name": "python3"
  },
  "language_info": {
   "codemirror_mode": {
    "name": "ipython",
    "version": 3
   },
   "file_extension": ".py",
   "mimetype": "text/x-python",
   "name": "python",
   "nbconvert_exporter": "python",
   "pygments_lexer": "ipython3",
   "version": "3.8.5"
  }
 },
 "nbformat": 4,
 "nbformat_minor": 4
}